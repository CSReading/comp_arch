{
 "cells": [
  {
   "cell_type": "markdown",
   "metadata": {},
   "source": [
    "# 3.1\n",
    ">$k$ ビットの組み合わせで $2^k$ 種類の値を表現できることを数学的に証明せよ.\n",
    "\n",
    "$k = 1$ ビットのとき, 表現できる値は $0$ と $1$ の $2$ 種類.  \n",
    "$k > 1$ に対し, $k-1$ ビットの組み合わせで表現できる値は $2^{k-1}$ 種類であるとする.  \n",
    "$k$ 桁目が $0$ のとき, 残りの $k-1$ 桁でとりうる組み合わせは $2^{k-1}$.  \n",
    "$k$ 桁目が $1$ のときも, 残りの $k-1$ 桁でとりうる組み合わせは $2^{k-1}$.  \n",
    "よって $k$ ビットで表現できる組み合わせは, $2^{k-1} + 2^{k-1} = 2^k$ 種類."
   ]
  },
  {
   "cell_type": "markdown",
   "metadata": {},
   "source": [
    "# 3.6\n",
    "> 実行に使われるコンピュータが, 文字集合に ASCII を使うのか, それとも EBCDIC を使うのかを判定するコンピュータプログラムを書きましょう.\n",
    "\n",
    "`3_6.c` 参照."
   ]
  }
 ],
 "metadata": {
  "interpreter": {
   "hash": "0935df2c46b369706dd8fcd4e3be2c98df734dc16c87e0aa30af5c09789720eb"
  },
  "kernelspec": {
   "display_name": "Python 3.7.4 64-bit ('base': conda)",
   "name": "python3"
  },
  "language_info": {
   "codemirror_mode": {
    "name": "ipython",
    "version": 3
   },
   "file_extension": ".py",
   "mimetype": "text/x-python",
   "name": "python",
   "nbconvert_exporter": "python",
   "pygments_lexer": "ipython3",
   "version": "3.7.4"
  },
  "orig_nbformat": 4
 },
 "nbformat": 4,
 "nbformat_minor": 2
}
