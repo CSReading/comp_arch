{
 "cells": [
  {
   "cell_type": "markdown",
   "metadata": {},
   "source": [
    "### 3-5\n",
    "#### 符号付き整数の表現を判定するプログラムを書け"
   ]
  },
  {
   "cell_type": "code",
   "execution_count": 134,
   "metadata": {},
   "outputs": [
    {
     "name": "stdout",
     "output_type": "stream",
     "text": [
      "2の補数\n"
     ]
    }
   ],
   "source": [
    "# ~ は補数を取る演算子\n",
    "if ~0b1 == -2:\n",
    "    print(\"2の補数\")\n",
    "elif ~0b1 == -1:\n",
    "    print(\"1の補数\")\n",
    "else:\n",
    "    print(\"その他\")"
   ]
  },
  {
   "cell_type": "markdown",
   "metadata": {},
   "source": [
    "### 3-15, 3-16\n",
    "#### BCD形式の加算と乗算を実行するコードを書く\n"
   ]
  },
  {
   "cell_type": "code",
   "execution_count": 127,
   "metadata": {},
   "outputs": [],
   "source": [
    "def bcdAdd(BCD1, BCD2):\n",
    "    len1 = len(BCD1)\n",
    "    len2 = len(BCD2)\n",
    "\n",
    "    res = []\n",
    "    carry = False\n",
    "    for i in range(max(len1, len2)):\n",
    "        if i < min(len1, len2):\n",
    "            x, y = BCD1[len1 - i - 1], BCD2[len2 - i - 1]\n",
    "        else:\n",
    "            if len1 > len2:\n",
    "                x, y = BCD1[len1 - i - 1], 0\n",
    "            \n",
    "            elif len1 < len2:\n",
    "                x, y = BCD2[len2 - i - 1], 0\n",
    "            else:\n",
    "                x, y = BCD1[len1 - i - 1], BCD2[len2 - i - 1]\n",
    "\n",
    "        if carry:\n",
    "            temp = x + y + 1\n",
    "        else:\n",
    "            temp = x + y\n",
    "        \n",
    "        if temp > 0x9:\n",
    "            carry = True\n",
    "            res.append(temp - 0xA)\n",
    "        else:\n",
    "            carry = False\n",
    "            res.append(temp)\n",
    "    res.reverse()\n",
    "    return res\n",
    "\n",
    "def bcdMultiply(BCD1, BCD2):\n",
    "    len1 = len(BCD1)\n",
    "    len2 = len(BCD2)\n",
    "\n",
    "    res = []\n",
    "    carry = 0\n",
    "    for j in range(len2):\n",
    "        resj = []\n",
    "        for i in range(len1):\n",
    "            x, y = BCD1[len1 - i - 1], BCD2[len2 - j - 1]\n",
    "\n",
    "            if carry > 0:\n",
    "                temp = (x * y) + carry\n",
    "            else:\n",
    "                temp = x * y\n",
    "            \n",
    "            carry = temp // 0xA\n",
    "            resj.append(temp % 0xA)\n",
    "        \n",
    "        resj.reverse()\n",
    "        resj += [0x0]*j\n",
    "        res.append(resj)\n",
    "\n",
    "\n",
    "    ans = [0x0]\n",
    "    for j in range(len2):\n",
    "        ans = bcdAdd(res[j], ans)\n",
    "    \n",
    "    return ans"
   ]
  },
  {
   "cell_type": "code",
   "execution_count": 132,
   "metadata": {},
   "outputs": [
    {
     "name": "stdout",
     "output_type": "stream",
     "text": [
      "[1, 2, 3, 4, 6, 0] 123460\n"
     ]
    }
   ],
   "source": [
    "BCD123456 = [0x1, 0x2, 0x3, 0x4, 0x5, 0x6]\n",
    "BCD4 = [0x4]\n",
    "print(bcdAdd(BCD123456, BCD4), 123456 + 4)"
   ]
  },
  {
   "cell_type": "code",
   "execution_count": 131,
   "metadata": {},
   "outputs": [
    {
     "name": "stdout",
     "output_type": "stream",
     "text": [
      "[2, 0, 4] 204\n"
     ]
    }
   ],
   "source": [
    "BCD17 = [0x1, 0x7]\n",
    "BCD12 = [0x1, 0x2]\n",
    "print(bcdMultiply(BCD17, BCD12), 17*12)"
   ]
  },
  {
   "cell_type": "markdown",
   "metadata": {},
   "source": [
    "### 補足\n",
    "- BCDをbyteずつencodeする形で持つのではなく、２進数としてもつやり方の場合引き算は10の補数を使うといい感じにできるというやつがあった。\n",
    "https://math.stackexchange.com/questions/1885375/how-to-subtract-bcd-numbers\n",
    "\n",
    "- $68 - 61 = 7$を考える\n",
    "- $61 = 01100001$の各桁が$9 = 1001$を法として反転させて1を足す.\n",
    "- $61$の10の補数は, $00111001 = 39$\n",
    "- $68 + 39 = 0001 0000 0111 = 107$ の桁上がりを無視すると$7$"
   ]
  },
  {
   "cell_type": "markdown",
   "metadata": {},
   "source": []
  }
 ],
 "metadata": {
  "interpreter": {
   "hash": "31f2aee4e71d21fbe5cf8b01ff0e069b9275f58929596ceb00d14d90e3e16cd6"
  },
  "kernelspec": {
   "display_name": "Python 3.8.10 64-bit",
   "name": "python3"
  },
  "language_info": {
   "codemirror_mode": {
    "name": "ipython",
    "version": 3
   },
   "file_extension": ".py",
   "mimetype": "text/x-python",
   "name": "python",
   "nbconvert_exporter": "python",
   "pygments_lexer": "ipython3",
   "version": "3.7.3"
  },
  "orig_nbformat": 4
 },
 "nbformat": 4,
 "nbformat_minor": 2
}
